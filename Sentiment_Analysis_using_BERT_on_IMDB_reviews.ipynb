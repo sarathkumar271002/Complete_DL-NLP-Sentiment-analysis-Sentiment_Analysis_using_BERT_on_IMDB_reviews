{
  "nbformat": 4,
  "nbformat_minor": 0,
  "metadata": {
    "colab": {
      "provenance": [],
      "gpuType": "T4"
    },
    "kernelspec": {
      "name": "python3",
      "display_name": "Python 3"
    },
    "language_info": {
      "name": "python"
    },
    "accelerator": "GPU"
  },
  "cells": [
    {
      "cell_type": "markdown",
      "source": [
        "# **Setup**"
      ],
      "metadata": {
        "id": "5s3H4XrkHB5z"
      }
    },
    {
      "cell_type": "code",
      "execution_count": 1,
      "metadata": {
        "id": "g6H93n5YFFfV"
      },
      "outputs": [],
      "source": [
        "!pip -q install datasets transformers accelerate scikit-learn nltk matplotlib"
      ]
    },
    {
      "cell_type": "code",
      "source": [
        "import numpy as np, pandas as pd, matplotlib.pyplot as plt, seaborn as sns\n",
        "import nltk; nltk.download('vader_lexicon')\n",
        "from nltk.sentiment import SentimentIntensityAnalyzer\n",
        "from sklearn.metrics import accuracy_score, f1_score, classification_report, confusion_matrix\n",
        "\n",
        "from sklearn.model_selection import train_test_split\n",
        "from sklearn.feature_extraction.text import TfidfVectorizer\n",
        "from sklearn.linear_model import LogisticRegression\n",
        "from sklearn.pipeline import Pipeline\n",
        "\n",
        "from transformers import AutoTokenizer, DataCollatorWithPadding, AutoModelForSequenceClassification, TrainingArguments, Trainer\n",
        "\n",
        "from torch.nn.functional import softmax\n",
        "import torch\n",
        "\n",
        "from sklearn.metrics import accuracy_score, f1_score, precision_score, recall_score"
      ],
      "metadata": {
        "colab": {
          "base_uri": "https://localhost:8080/"
        },
        "id": "dim8BtwQGs3w",
        "outputId": "b6b70267-cc3b-4fa9-c9e7-0d9e85a35d63"
      },
      "execution_count": 2,
      "outputs": [
        {
          "output_type": "stream",
          "name": "stderr",
          "text": [
            "[nltk_data] Downloading package vader_lexicon to /root/nltk_data...\n",
            "[nltk_data]   Package vader_lexicon is already up-to-date!\n"
          ]
        }
      ]
    },
    {
      "cell_type": "markdown",
      "source": [
        "# **Loading dataset**"
      ],
      "metadata": {
        "id": "E14AvOvPHEtW"
      }
    },
    {
      "cell_type": "code",
      "source": [
        "from datasets import load_dataset\n",
        "ds = load_dataset(\"imdb\")\n",
        "train = ds[\"train\"]\n",
        "test  = ds[\"test\"]\n",
        "\n",
        "train = train.shuffle(seed=42)\n",
        "val = train.select(range(2000))\n",
        "train = train.select(range(2000, len(train)))\n",
        "len(train), len(val), len(test)"
      ],
      "metadata": {
        "colab": {
          "base_uri": "https://localhost:8080/"
        },
        "id": "ID5Nh2OwHHfQ",
        "outputId": "f61d5eec-f722-4264-a563-49a3da135e97"
      },
      "execution_count": 3,
      "outputs": [
        {
          "output_type": "stream",
          "name": "stderr",
          "text": [
            "/usr/local/lib/python3.11/dist-packages/huggingface_hub/utils/_auth.py:94: UserWarning: \n",
            "The secret `HF_TOKEN` does not exist in your Colab secrets.\n",
            "To authenticate with the Hugging Face Hub, create a token in your settings tab (https://huggingface.co/settings/tokens), set it as secret in your Google Colab and restart your session.\n",
            "You will be able to reuse this secret in all of your notebooks.\n",
            "Please note that authentication is recommended but still optional to access public models or datasets.\n",
            "  warnings.warn(\n"
          ]
        },
        {
          "output_type": "execute_result",
          "data": {
            "text/plain": [
              "(23000, 2000, 25000)"
            ]
          },
          "metadata": {},
          "execution_count": 3
        }
      ]
    },
    {
      "cell_type": "code",
      "source": [
        "pd.Series(train[\"label\"]).value_counts()\n",
        "pd.Series(test[\"label\"]).value_counts()"
      ],
      "metadata": {
        "colab": {
          "base_uri": "https://localhost:8080/",
          "height": 147
        },
        "id": "seo0GV0HHWOg",
        "outputId": "40908541-b12d-47a2-f820-ac1f79547c8a"
      },
      "execution_count": 4,
      "outputs": [
        {
          "output_type": "execute_result",
          "data": {
            "text/plain": [
              "0    12500\n",
              "1    12500\n",
              "Name: count, dtype: int64"
            ],
            "text/html": [
              "<div>\n",
              "<style scoped>\n",
              "    .dataframe tbody tr th:only-of-type {\n",
              "        vertical-align: middle;\n",
              "    }\n",
              "\n",
              "    .dataframe tbody tr th {\n",
              "        vertical-align: top;\n",
              "    }\n",
              "\n",
              "    .dataframe thead th {\n",
              "        text-align: right;\n",
              "    }\n",
              "</style>\n",
              "<table border=\"1\" class=\"dataframe\">\n",
              "  <thead>\n",
              "    <tr style=\"text-align: right;\">\n",
              "      <th></th>\n",
              "      <th>count</th>\n",
              "    </tr>\n",
              "  </thead>\n",
              "  <tbody>\n",
              "    <tr>\n",
              "      <th>0</th>\n",
              "      <td>12500</td>\n",
              "    </tr>\n",
              "    <tr>\n",
              "      <th>1</th>\n",
              "      <td>12500</td>\n",
              "    </tr>\n",
              "  </tbody>\n",
              "</table>\n",
              "</div><br><label><b>dtype:</b> int64</label>"
            ]
          },
          "metadata": {},
          "execution_count": 4
        }
      ]
    },
    {
      "cell_type": "code",
      "source": [
        "print(train[:5])   # first 5 rows"
      ],
      "metadata": {
        "colab": {
          "base_uri": "https://localhost:8080/"
        },
        "id": "dlIUfgeMLg3M",
        "outputId": "abe45352-b2e1-47fe-f962-ef263913fea4"
      },
      "execution_count": 5,
      "outputs": [
        {
          "output_type": "stream",
          "name": "stdout",
          "text": [
            "{'text': [\"This film features Ben Chaplin as a bored bank employee in England who orders a mail order bride from Russia, recieves Nicole Kidman in the mail and gets more than he bargained for when, surprise, she isn't what she appears to be. The story is fairly predictible and Chaplin underacts too much to the point where he becomes somewhat anoying. Kidman is actualy rather good in this role, making her character about the only thing in this film that is interesting. GRADE: C\", 'By no means a masterpiece, and far from Errol Flynn\\'s best, Istanbul still has much going for it. The locations and beautiful technicolour cinematography, bring us back to a time long since past. Errol Flynn does show moments of his past glory, and is OK as Jim Brennan, a pilot who\\'s past comes back to haunt him. The picture is actually a remake of 1947\\'s \"Singapore\", and the story seems awfully contrived and cliche\\' by today\\'s standards. Also many of the supporting cast seem to be simply \"going through the motions\" in this picture. Many people have also compared it to one of the all time greats, CASABLANCA. While watching the film, I could see many of the similarities, but hey, Casablanca has inspired countless imitators, so take that for what it\\'s worth. In closing, if you are a fan of Flynn, or old fashioned love stories, you might want to give this film a look. Otherwise, I\\'d recommend Casablanca, or The Maltese Falcon, as a good introduction to some of Hollywood\\'s classics....', '\\'The Shop Around the Corner (1940)\\' is a pleasant romantic comedy, not the sort that I will hold dear to me until the end of my days, but nonetheless a film thoroughly deserving of its reputation. By 1940, director Ernst Lubitsch had long ago taken Hollywood by storm, and his famed \"Lubitsch touch\" had become a sparkling commercial trademark. This film was planned for a 1939 release, but scheduling conflicts meant that James Stewart and Margaret Sullavan were unavailable for filming. Rather than substituting either of his main stars, Lubitsch decided to postpone production, in the meantime directing Greta Garbo in \\'Ninotchka (1939).\\' When it was finally completed, \\'The Shop Around the Corner\\' appears to have been met with relative indifference, receiving zero Oscar nominations despite an excellent screenplay by Samson Raphaelson and fine performances from its two leads and Frank Morgan in a supporting role. Time, nevertheless, has betrayed the film\\'s massive and enduring influence, with high-profile remakes including \\'In the Good Old Summertime (1949)\\' and \\'You\\'ve Got Mail (1998).\\'<br /><br />At its surface, one might assume \\'The Shop Around the Corner\\' to simply be the story of two lovers, Klara Novak (Sullavan) and Alfred Kralik (Stewart), who love each other without knowing it. However, Lubitsch\\'s film runs much deeper than that. It\\'s the story of Matuschek and Company, a stylish gift shop in Budapest, and the various human relationships that make the store such a close-knit family. When store-owner Hugo Matuschek (Frank Morgan) begins to suspect his oldest employee of having an affair with his wife, we witness the breakdown of two families, both at home and at work. There\\'s absolutely no reason why the story should not have been set in the United States \\x96 perhaps in the blustery streets of New York \\x96 but Lubitsch was deliberately recreating the passions and memories of his former years in Europe, the quaintness of love and life before war brought terror and bloodshed to every doorstep. This subtle subtext brings a more meaningful, personal touch to the film \\x96 in fact, even as I write this review, I\\'m beginning to appreciate the story even more.<br /><br />Sullavan and Stewart are both lovely in their respective roles, but I think that it\\'s the supporting cast that really make the film. Each character brings a distinctive personality to the mix, and their interactions are always believable and enjoyable. I especially liked how Lubitsch knowingly directed much of our sympathy towards Hugo Matuschek, who, in any other film, would have been restricted to an underdeveloped, two-dimensional portrayal. Matuschek may have lost the love of his family, but he recaptures it in the affection of his employees, and you feel a heartwarming glow when, in the bitter cold of a Christmas Eve snowstorm, he finds companionship in a freckle-faced young errand-boy (Charles Smith). This genuine warmth towards a supporting character strikes me as being similar to several of Billy Wilder\\'s later creations, for example, Boom Boom Jackson in \\'The Fortune Cookie (1966)\\' or Carlo Carlucci in \\'Avanti! (1972).\\' Of course, it doesn\\'t really need saying, but Billy Wilder learned from the best.', \"Two movies back to back which dealt with Indian POWs; Veer Zaara and Deewaar. Although Veer Zara was a love story of a guy who gives everything up for someone, Deewaar focuses on the main subject itself. It is not hidden that many Indian POWs are rotting in Pakistani Jails for years - for whom neither Indian Govt. has time or sympathy nor the other side. I'm sure some of Pakistani POWs are in India as well, but let's focus on the movie. Full of actors. Some were stage actors like Raghubir Yadav, Rajendra Gupta, etc. Amitabh Bachchan who plays the role of a Major, acted well. Akshaye Khanna did his part well. There was nothing for Amrita Rao to do than a few giggles and couple songs. I think Sanjay Dutt's role was most solid even though it wasn't too long. He acted really well here and his dialog delivery was also impressive. If you compare it to LOC, which was nothing but a day long movie with story going in all directions (if it HAD a story) - Deewaar is a well directed movie that keeps a good pace and does justice to all actors. 7.5/10\", '...which isn\\'t exactly a ringing endorsement. Overall, \"DinoCroc\" was a much better movie. Sure, in that movie Matt Borlenghi played a complete wuss-bag who spent the entire movie crying about his little brother getting eaten by the DinoCroc. But the special effects in \"DinoCroc\" were better, the plot lines were better, and the acting was better. Here are the problems with \"Blood Surf\" -- 1) the killer crocodile looks like a kid\\'s model with a retractable jaw. 2) the plot is ridiculous. Matt Borlenghi & Co. get shipwrecked on a deserted island, in which they encounter a rabid group of ugly Filipino natives who try to force themselves upon the women in the group. Which was a complete waste of 15 minutes of film. And 3) there\\'s not enough croc time. There are a couple of redeeming qualities of \"Blood Surf\" -- the actresses are pretty attractive and Matt Borlenghi gets eaten by the croc towards the end of the movie. But if you\\'re on your deathbed and only have enough time to watch one Matt Borlenghi/killer crocodile movie, skip this one and fire up \"DinoCroc\" instead.'], 'label': [0, 1, 1, 1, 0]}\n"
          ]
        }
      ]
    },
    {
      "cell_type": "markdown",
      "source": [
        "# **1. Rule based(VADER)**"
      ],
      "metadata": {
        "id": "3QODQxNVJQOB"
      }
    },
    {
      "cell_type": "code",
      "source": [
        "sia = SentimentIntensityAnalyzer()\n",
        "\n",
        "def vader_pred(text):\n",
        "    s = sia.polarity_scores(text)[\"compound\"]\n",
        "    return 1 if s >= 0 else 0  # >=0 positive else negative\n",
        "\n",
        "y_true = test[\"label\"]\n",
        "y_pred = [vader_pred(t) for t in test[\"text\"]]\n",
        "\n",
        "print(\"VADER Acc:\", accuracy_score(y_true, y_pred))\n",
        "print(\"VADER F1 :\", f1_score(y_true, y_pred))\n",
        "print(classification_report(y_true, y_pred))"
      ],
      "metadata": {
        "colab": {
          "base_uri": "https://localhost:8080/"
        },
        "id": "aSJXS460IaXv",
        "outputId": "5cc22d4b-6a92-4e03-aa07-67c78792e20a"
      },
      "execution_count": 6,
      "outputs": [
        {
          "output_type": "stream",
          "name": "stdout",
          "text": [
            "VADER Acc: 0.69832\n",
            "VADER F1 : 0.7403429043586036\n",
            "              precision    recall  f1-score   support\n",
            "\n",
            "           0       0.79      0.54      0.64     12500\n",
            "           1       0.65      0.86      0.74     12500\n",
            "\n",
            "    accuracy                           0.70     25000\n",
            "   macro avg       0.72      0.70      0.69     25000\n",
            "weighted avg       0.72      0.70      0.69     25000\n",
            "\n"
          ]
        }
      ]
    },
    {
      "cell_type": "markdown",
      "source": [
        "VADER is a quick baseline: fast for sanity(simple) checks, but not SOTA-level performance.\n",
        "\n",
        "VADER = Valence AWare Dictionary ans sEntiment Reasoner(pre-built sentiment word dictionary)\n",
        "\n",
        "SOTA = State if the art(Latest best-performing models (like BERT, RoBERTa, GPT, etc, VADER → rule/lexicon based; context capture panna mudiyadhu. So accuracy < modern deep learning models.))\n",
        "\n",
        "* VADER → very lightweight. No GPU/huge training needed.\n",
        "\n",
        "* Super fast inference even on large datasets."
      ],
      "metadata": {
        "id": "2_aYV1fCMhKk"
      }
    },
    {
      "cell_type": "markdown",
      "source": [
        "# **2. Classic ML(TF-IDF + Logistic rregression)**"
      ],
      "metadata": {
        "id": "eKU5SfcvJYIF"
      }
    },
    {
      "cell_type": "code",
      "source": [
        "X_train, y_train = train[\"text\"], train[\"label\"]\n",
        "X_val,   y_val   = val[\"text\"],   val[\"label\"]\n",
        "X_test,  y_test  = test[\"text\"],  test[\"label\"]\n",
        "\n",
        "pipe = Pipeline([\n",
        "    (\"tfidf\", TfidfVectorizer(max_features=30000, ngram_range=(1,2), min_df=2)),\n",
        "    (\"clf\", LogisticRegression(max_iter=200))\n",
        "])\n",
        "pipe.fit(X_train, y_train)\n",
        "joblib.dump(pipe, \"tfidf_model.pkl\")\n",
        "\n",
        "pred_val = pipe.predict(X_val)\n",
        "pred_test = pipe.predict(X_test)\n",
        "print(\"Val Acc:\", accuracy_score(y_val, pred_val), \"F1:\", f1_score(y_val, pred_val))\n",
        "print(\"Test Acc:\", accuracy_score(y_test, pred_test), \"F1:\", f1_score(y_test, pred_test))\n",
        "print(classification_report(y_test, pred_test))"
      ],
      "metadata": {
        "colab": {
          "base_uri": "https://localhost:8080/"
        },
        "id": "OxXNQU1QJXqJ",
        "outputId": "0a78501b-ae95-4d2e-e177-371087abb5b6"
      },
      "execution_count": 24,
      "outputs": [
        {
          "output_type": "stream",
          "name": "stdout",
          "text": [
            "Val Acc: 0.9065 F1: 0.9061716006021073\n",
            "Test Acc: 0.89256 F1: 0.8928599920223375\n",
            "              precision    recall  f1-score   support\n",
            "\n",
            "           0       0.89      0.89      0.89     12500\n",
            "           1       0.89      0.90      0.89     12500\n",
            "\n",
            "    accuracy                           0.89     25000\n",
            "   macro avg       0.89      0.89      0.89     25000\n",
            "weighted avg       0.89      0.89      0.89     25000\n",
            "\n"
          ]
        }
      ]
    },
    {
      "cell_type": "markdown",
      "source": [
        "TF-IDF + Logistic Regression gives a solid classical baseline (~89%), much better than VADER, but still below transformer-based SOTA models (>93%)."
      ],
      "metadata": {
        "id": "YEBZZjoJMcJa"
      }
    },
    {
      "cell_type": "code",
      "source": [
        "cm = confusion_matrix(y_test, pred_test)\n",
        "plt.imshow(cm, interpolation='nearest')\n",
        "plt.title(\"Confusion Matrix\")\n",
        "plt.colorbar(); plt.xticks([0,1], [\"neg\",\"pos\"]); plt.yticks([0,1], [\"neg\",\"pos\"])\n",
        "for i in range(2):\n",
        "    for j in range(2):\n",
        "        plt.text(j, i, cm[i, j], ha=\"center\", va=\"center\")\n",
        "plt.xlabel(\"Pred\"); plt.ylabel(\"True\")\n",
        "plt.show()"
      ],
      "metadata": {
        "colab": {
          "base_uri": "https://localhost:8080/",
          "height": 472
        },
        "id": "wJmverOcMmd2",
        "outputId": "b8805575-b7e4-4b3f-de1f-1f0639bfaed9"
      },
      "execution_count": 8,
      "outputs": [
        {
          "output_type": "display_data",
          "data": {
            "text/plain": [
              "<Figure size 640x480 with 2 Axes>"
            ],
            "image/png": "[encoded data removed]"
          },
          "metadata": {}
        }
      ]
    },
    {
      "cell_type": "code",
      "source": [
        "def predict_sentiment(text: str):\n",
        "    p = pipe.predict_proba([text])[0]\n",
        "    label = \"Positive\" if p[1] > 0.5 else \"Negative\"\n",
        "    return label, float(p[1])"
      ],
      "metadata": {
        "id": "WLkmDHRLMxmS"
      },
      "execution_count": 9,
      "outputs": []
    },
    {
      "cell_type": "code",
      "source": [
        "pipe = joblib.load(\"tfidf_model.pkl\")\n",
        "print(pipe.predict([\"This movie was great\"]))  # should output [1]\n",
        "print(pipe.predict([\"This movie was boring\"])) # should output [0]"
      ],
      "metadata": {
        "colab": {
          "base_uri": "https://localhost:8080/"
        },
        "id": "GFZpXlns7izS",
        "outputId": "eb76a9cd-9f0f-49af-b3c2-ce6effcfe54a"
      },
      "execution_count": 25,
      "outputs": [
        {
          "output_type": "stream",
          "name": "stdout",
          "text": [
            "[1]\n",
            "[0]\n"
          ]
        }
      ]
    },
    {
      "cell_type": "markdown",
      "source": [
        "# **3. Transformer fine-tuning (DistilBERT)**"
      ],
      "metadata": {
        "id": "vQ7l60r1M0vj"
      }
    },
    {
      "cell_type": "code",
      "source": [
        "checkpoint = \"distilbert-base-uncased\"\n",
        "tokenizer = AutoTokenizer.from_pretrained(checkpoint)\n",
        "\n",
        "def tokenize(batch):\n",
        "    return tokenizer(batch[\"text\"], truncation=True)\n",
        "tok_train = train.map(tokenize, batched=True)\n",
        "tok_val   = val.map(tokenize, batched=True)\n",
        "tok_test  = test.map(tokenize, batched=True)\n",
        "\n",
        "data_collator = DataCollatorWithPadding(tokenizer=tokenizer)\n",
        "id2label = {0: \"NEGATIVE\", 1: \"POSITIVE\"}\n",
        "label2id = {\"NEGATIVE\": 0, \"POSITIVE\": 1}\n",
        "\n",
        "model = AutoModelForSequenceClassification.from_pretrained(\n",
        "    checkpoint, num_labels=2, id2label=id2label, label2id=label2id\n",
        ")\n",
        "\n",
        "def compute_metrics(eval_pred):\n",
        "    logits, labels = eval_pred\n",
        "    preds = np.argmax(logits, axis=-1)\n",
        "    return {\n",
        "        \"accuracy\": accuracy_score(labels, preds),\n",
        "        \"f1\": f1_score(labels, preds),\n",
        "        \"precision\": precision_score(labels, preds),\n",
        "        \"recall\": recall_score(labels, preds)\n",
        "    }\n",
        "\n",
        "args = TrainingArguments(\n",
        "    output_dir=\"sentiment-model\",\n",
        "    eval_strategy=\"epoch\",\n",
        "    save_strategy=\"epoch\",\n",
        "    learning_rate=2e-5,\n",
        "    per_device_train_batch_size=16,\n",
        "    per_device_eval_batch_size=32,\n",
        "    num_train_epochs=2,\n",
        "    weight_decay=0.01,\n",
        "    logging_steps=100,\n",
        "    load_best_model_at_end=True,\n",
        ")\n",
        "\n",
        "trainer = Trainer(\n",
        "    model=model,\n",
        "    args=args,\n",
        "    train_dataset=tok_train,\n",
        "    eval_dataset=tok_val,\n",
        "    tokenizer=tokenizer,\n",
        "    data_collator=data_collator,\n",
        "    compute_metrics=compute_metrics\n",
        ")\n",
        "\n",
        "trainer.train()\n",
        "trainer.evaluate(tok_test)\n"
      ],
      "metadata": {
        "id": "55WRrtMBM6zG"
      },
      "execution_count": null,
      "outputs": []
    },
    {
      "cell_type": "code",
      "source": [
        "def predict_transformer(text: str):\n",
        "    inputs = tokenizer(text, return_tensors=\"pt\", truncation=True)\n",
        "    with torch.no_grad():\n",
        "        out = model(**inputs)\n",
        "    probs = softmax(out.logits, dim=-1).numpy().flatten()\n",
        "    label = \"Positive\" if probs[1] > 0.5 else \"Negative\"\n",
        "    return label, float(probs[1])"
      ],
      "metadata": {
        "id": "JhPVAmcuNTIe"
      },
      "execution_count": null,
      "outputs": []
    },
    {
      "cell_type": "code",
      "source": [
        "trainer.save_model(\"sentiment-distilbert\")\n",
        "tokenizer.save_pretrained(\"sentiment-distilbert\")"
      ],
      "metadata": {
        "id": "2dpDvjATjLQK"
      },
      "execution_count": null,
      "outputs": []
    },
    {
      "cell_type": "markdown",
      "source": [
        "# **Error analysis**"
      ],
      "metadata": {
        "id": "MgUMfWL9jVSm"
      }
    },
    {
      "cell_type": "code",
      "source": [
        "wrong = []\n",
        "preds = pipe.predict(X_test)\n",
        "for i,(t, y, p) in enumerate(zip(X_test, y_test, preds)):\n",
        "    if y != p:\n",
        "        wrong.append((t, y, p))\n",
        "wrong[:5]  # sample mistakes"
      ],
      "metadata": {
        "id": "aGIXmz2WjZml"
      },
      "execution_count": null,
      "outputs": []
    },
    {
      "cell_type": "markdown",
      "source": [
        "# **Streamlit part**"
      ],
      "metadata": {
        "id": "NorglGMCjgvO"
      }
    },
    {
      "cell_type": "code",
      "source": [
        "import base64\n",
        "\n",
        "def get_base64_of_bin_file(bin_file):\n",
        "    with open(bin_file, \"rb\") as f:\n",
        "        data = f.read()\n",
        "    return base64.b64encode(data).decode()\n",
        "\n",
        "bg_img = get_base64_of_bin_file(\"/content/bg4.jpg\")"
      ],
      "metadata": {
        "id": "60dKBdFEn4yS"
      },
      "execution_count": 11,
      "outputs": []
    },
    {
      "cell_type": "code",
      "source": [
        "%%writefile app.py\n",
        "import streamlit as st\n",
        "from transformers import AutoTokenizer, AutoModelForSequenceClassification\n",
        "import torch\n",
        "from torch.nn.functional import softmax\n",
        "import base64\n",
        "import joblib\n",
        "\n",
        "--- Load model & tokenizer ---\n",
        "@st.cache_resource\n",
        "def load_model():\n",
        "    model_path = \"sentiment-distilbert\"   # folder saved after training\n",
        "    tokenizer = AutoTokenizer.from_pretrained(model_path)\n",
        "    model = AutoModelForSequenceClassification.from_pretrained(model_path)\n",
        "    return tokenizer, model\n",
        "\n",
        "tokenizer, model = load_model()\n",
        "\n",
        "# @st.cache_resource\n",
        "# def load_model():\n",
        "#     pipe = joblib.load(\"/content/tfidf_model.pkl\")\n",
        "#     return pipe\n",
        "# pipe = load_model()\n",
        "\n",
        "--- Prediction function ---\n",
        "def predict_sentiment(text: str):\n",
        "    inputs = tokenizer(text, return_tensors=\"pt\", truncation=True, padding=True)\n",
        "    with torch.no_grad():\n",
        "        outputs = model(**inputs)\n",
        "    probs = softmax(outputs.logits, dim=-1).numpy().flatten()\n",
        "    label = \"Positive 😀\" if probs[1] > 0.5 else \"Negative 😞\"\n",
        "    return label, float(probs[1])\n",
        "\n",
        "# def predict_sentiment(text: str):\n",
        "#     pred = pipe.predict([text])[0]\n",
        "#     prob = pipe.predict_proba([text])[0][1]  # probability of positive\n",
        "#     label = \"Positive 😀\" if pred == 1 else \"Negative 😞\"\n",
        "#     return label, prob\n",
        "#  ----------------------------\n",
        "# --- Function to encode local image ---\n",
        "def get_base64_of_bin_file(bin_file):\n",
        "    with open(bin_file, \"rb\") as f:\n",
        "        data = f.read()\n",
        "    return base64.b64encode(data).decode()\n",
        "\n",
        "# --- Background image (replace bg.jpg with your file) ---\n",
        "bg_img = get_base64_of_bin_file(\"/content/bg4.jpg\")\n",
        "\n",
        "page_bg = f\"\"\"\n",
        "<style>\n",
        "[data-testid=\"stAppViewContainer\"] {{\n",
        "    background-image: url(\"data:image/jpg;base64,{bg_img}\");\n",
        "    background-size: cover;\n",
        "    background-position: center;\n",
        "    background-attachment: fixed;\n",
        "    color: black;\n",
        "}}\n",
        "[data-testid=\"stHeader\"], [data-testid=\"stToolbar\"] {{\n",
        "    background: rgba(0,0,0,0);\n",
        "}}\n",
        "h1, h2, h3, h4, h5, h6, p, div, span, label {{\n",
        "    color: white !important;\n",
        "}}\n",
        ".stTextInput > div > div > input,\n",
        ".stTextArea > div > textarea {{\n",
        "    background-color: rgba(255, 255, 255, 0.7);\n",
        "    color: black !important;\n",
        "    border-radius: 10px;\n",
        "}}\n",
        ".stButton button {{\n",
        "    background-color: black;\n",
        "    color: white;\n",
        "    border-radius: 10px;\n",
        "    padding: 0.5em 1em;\n",
        "}}\n",
        "</style>\n",
        "\"\"\"\n",
        "st.markdown(page_bg, unsafe_allow_html=True)\n",
        "\n",
        "# --- Streamlit UI ---\n",
        "st.set_page_config(page_title=\"Sentiment Analysis using BERT on IMDB reviews\", page_icon=\"🤖\", layout=\"centered\")\n",
        "\n",
        "st.title(\"🤖 Sentiment Analysis on IMDb reviews using BERT\")\n",
        "st.markdown(\n",
        "    \"\"\"\n",
        "    This app uses a **fine-tuned DistilBERT** model (Hugging Face 🤗)\n",
        "    to classify IMDB reviews into **Positive** or **Negative** sentiment.\n",
        "    \"\"\"\n",
        ")\n",
        "\n",
        "txt = st.text_area(\"💬 Enter a movie review:\", height=150)\n",
        "\n",
        "# if st.button(\"🔍 Analyze Sentiment\"):\n",
        "#     if txt.strip():\n",
        "#         label, score = predict_sentiment(txt)\n",
        "#         st.markdown(f\"## Prediction: {label}\")\n",
        "#         st.progress(score if label.startswith(\"Positive\") else 1 - score)\n",
        "#         st.caption(f\"Confidence: {score:.2%}\")\n",
        "#     else:\n",
        "#         st.warning(\"⚠️ Please enter some text!\")\n",
        "if st.button(\"🔍 Analyze Sentiment\"):\n",
        "    if txt.strip():\n",
        "        label, score = predict_sentiment(txt)\n",
        "\n",
        "        # Custom styled output box\n",
        "        st.markdown(\n",
        "            f\"\"\"\n",
        "            <div style=\"\n",
        "                padding: 20px;\n",
        "                border-radius: 15px;\n",
        "                background: rgba(0, 0, 0, 0.6);\n",
        "                text-align: center;\n",
        "                font-size: 24px;\n",
        "                font-weight: bold;\n",
        "                color: {'#4CAF50' if label.startswith('Positive') else '#F44336'};\n",
        "            \">\n",
        "                Prediction: {label}\n",
        "            </div>\n",
        "            \"\"\",\n",
        "            unsafe_allow_html=True,\n",
        "        )\n",
        "\n",
        "        # Progress bar for confidence\n",
        "        st.progress(score if label.startswith(\"Positive\") else 1 - score)\n",
        "        st.caption(f\"Confidence: {score:.2%}\")\n",
        "    else:\n",
        "        st.warning(\"⚠️ Please enter some text!\")\n",
        "\n",
        "st.markdown(\"---\")\n"
      ],
      "metadata": {
        "id": "OYccYeaEp8wZ",
        "colab": {
          "base_uri": "https://localhost:8080/"
        },
        "outputId": "d95c09e7-8099-454a-cb3b-effd0daae4f4"
      },
      "execution_count": 30,
      "outputs": [
        {
          "output_type": "stream",
          "name": "stdout",
          "text": [
            "Overwriting app.py\n"
          ]
        }
      ]
    },
    {
      "cell_type": "code",
      "source": [
        "# 1. Install\n",
        "!pip install pyngrok streamlit -q\n",
        "\n",
        "# 2. Add your ngrok token\n",
        "!ngrok config add-authtoken 30y06aS09CrHLdHMts1Ip0TG3ro_7vpAv7SSNQ1h5HJdfHu3K"
      ],
      "metadata": {
        "id": "7u1ysm7pm2-K",
        "colab": {
          "base_uri": "https://localhost:8080/"
        },
        "outputId": "3c47048a-61fd-412e-87a6-60ee98332bb7"
      },
      "execution_count": 16,
      "outputs": [
        {
          "output_type": "stream",
          "name": "stdout",
          "text": [
            "Authtoken saved to configuration file: /root/.config/ngrok/ngrok.yml\n"
          ]
        }
      ]
    },
    {
      "cell_type": "code",
      "source": [
        "# 3. Run Streamlit in background\n",
        "!nohup streamlit run app.py --server.port 8501 --server.address 0.0.0.0 >/dev/null 2>&1 &"
      ],
      "metadata": {
        "id": "dmrKsAErjqqR"
      },
      "execution_count": 17,
      "outputs": []
    },
    {
      "cell_type": "code",
      "source": [
        "# 4. Tunnel port 8501\n",
        "from pyngrok import ngrok\n",
        "public_url = ngrok.connect(8501)\n",
        "print(\"Streamlit App URL:\", public_url)\n"
      ],
      "metadata": {
        "id": "3vGzKQqym_xn",
        "colab": {
          "base_uri": "https://localhost:8080/"
        },
        "outputId": "ec7fec9a-2532-4b7f-ff21-7cb07684ff85"
      },
      "execution_count": 18,
      "outputs": [
        {
          "output_type": "stream",
          "name": "stdout",
          "text": [
            "Streamlit App URL: NgrokTunnel: \"https://384e1f278bf0.ngrok-free.app\" -> \"http://localhost:8501\"\n"
          ]
        }
      ]
    }
  ]
}